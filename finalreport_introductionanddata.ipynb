{
 "cells": [
  {
   "cell_type": "markdown",
   "metadata": {},
   "source": [
    "# Final Report"
   ]
  },
  {
   "cell_type": "markdown",
   "metadata": {},
   "source": [
    "## Introduction "
   ]
  },
  {
   "cell_type": "markdown",
   "metadata": {},
   "source": [
    "While the idea of electrical cars as an environmentally advantageous alternative to cars driven by internal combustion engines is old, the appearance of Tesla on the car market has arguably accelerated this development. \n",
    "\n",
    "For electrical cars to be a viable alternative to conventional cars, there is a need for a widespread infrastructure in the form of charging stations as well. The aim of this project is to take a closer look at the city of Düsseldorf in Germany and to determine -for a hypothetical provider of charging stations- where would be the best district to place one. In order to achieve this, I will first analyze the existing network of charging stations in the city and then determine gaps in this network along with a possible demand for charging stations.\n"
   ]
  },
  {
   "cell_type": "markdown",
   "metadata": {},
   "source": [
    "## Data"
   ]
  },
  {
   "cell_type": "markdown",
   "metadata": {},
   "source": [
    "The data used for the project will mostly rely on Foursquare ( www.foursquare.com ), specifically on the \"EV charging station\" venue category. \n",
    "\n",
    "The data necessary to attach GPS coordinates to the different districts of Düsseldorf will be sourced from freely available online resources such as the website www.laengengrad-breitengrad.de and Open Street Map ( www.openstreetmap.org )."
   ]
  },
  {
   "cell_type": "code",
   "execution_count": null,
   "metadata": {},
   "outputs": [],
   "source": []
  }
 ],
 "metadata": {
  "kernelspec": {
   "display_name": "Python 3",
   "language": "python",
   "name": "python3"
  },
  "language_info": {
   "codemirror_mode": {
    "name": "ipython",
    "version": 3
   },
   "file_extension": ".py",
   "mimetype": "text/x-python",
   "name": "python",
   "nbconvert_exporter": "python",
   "pygments_lexer": "ipython3",
   "version": "3.6.10"
  }
 },
 "nbformat": 4,
 "nbformat_minor": 2
}

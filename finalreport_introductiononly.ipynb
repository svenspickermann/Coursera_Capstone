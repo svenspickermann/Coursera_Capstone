{
 "cells": [
  {
   "cell_type": "markdown",
   "metadata": {},
   "source": [
    "# Introduction "
   ]
  },
  {
   "cell_type": "markdown",
   "metadata": {},
   "source": [
    "While the idea of electrical cars as an environmentally advantageous alternative to cars driven by internal combustion engines is old, the appearance of Tesla on the car market has arguably accelerated this development. \n",
    "\n",
    "For electrical cars to be a viable alternative to conventional cars, there is a need for a widespread infrastructure in the form of charging stations as well. The aim of this project is to take a closer look at the city of Düsseldorf in Germany and to determine -for a hypothetical provider of charging stations- where would be the best district to place one. In order to achieve this, I will first analyze the existing network of charging stations in the city and then determine gaps in this network with a possible demand.\n"
   ]
  },
  {
   "cell_type": "code",
   "execution_count": null,
   "metadata": {},
   "outputs": [],
   "source": []
  }
 ],
 "metadata": {
  "kernelspec": {
   "display_name": "Python 3",
   "language": "python",
   "name": "python3"
  },
  "language_info": {
   "codemirror_mode": {
    "name": "ipython",
    "version": 3
   },
   "file_extension": ".py",
   "mimetype": "text/x-python",
   "name": "python",
   "nbconvert_exporter": "python",
   "pygments_lexer": "ipython3",
   "version": "3.6.10"
  }
 },
 "nbformat": 4,
 "nbformat_minor": 2
}
